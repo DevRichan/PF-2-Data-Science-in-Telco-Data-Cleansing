{
  "nbformat": 4,
  "nbformat_minor": 0,
  "metadata": {
    "kernelspec": {
      "display_name": "Python 3",
      "language": "python",
      "name": "python3"
    },
    "language_info": {
      "codemirror_mode": {
        "name": "ipython",
        "version": 3
      },
      "file_extension": ".py",
      "mimetype": "text/x-python",
      "name": "python",
      "nbconvert_exporter": "python",
      "pygments_lexer": "ipython3",
      "version": "3.6.2"
    },
    "colab": {
      "name": "Data Science in Telco (Data Cleansing).ipynb",
      "provenance": [],
      "include_colab_link": true
    }
  },
  "cells": [
    {
      "cell_type": "markdown",
      "metadata": {
        "id": "view-in-github",
        "colab_type": "text"
      },
      "source": [
        "<a href=\"https://colab.research.google.com/github/DevRichan/PF-2-Data-Science-in-Telco-Data-Cleansing/blob/master/Data_Science_in_Telco_(Data_Cleansing).ipynb\" target=\"_parent\"><img src=\"https://colab.research.google.com/assets/colab-badge.svg\" alt=\"Open In Colab\"/></a>"
      ]
    },
    {
      "cell_type": "code",
      "metadata": {
        "id": "lsarprYmp7Or",
        "colab_type": "code",
        "colab": {}
      },
      "source": [
        "import pandas as pd\n",
        "pd.options.display.max_columns = 50\n",
        "import matplotlib.pyplot as plt\n",
        "import seaborn as sns"
      ],
      "execution_count": null,
      "outputs": []
    },
    {
      "cell_type": "code",
      "metadata": {
        "id": "gRPDoLcRp7Oz",
        "colab_type": "code",
        "colab": {}
      },
      "source": [
        "df = pd.read_csv('https://dqlab-dataset.s3-ap-southeast-1.amazonaws.com/dqlab_telco.csv')"
      ],
      "execution_count": null,
      "outputs": []
    },
    {
      "cell_type": "code",
      "metadata": {
        "id": "KcgFUzmAp7O6",
        "colab_type": "code",
        "colab": {},
        "outputId": "a00321a3-f21d-426b-a81a-1fb8d7f8caa9"
      },
      "source": [
        "df.head()"
      ],
      "execution_count": null,
      "outputs": [
        {
          "output_type": "execute_result",
          "data": {
            "text/html": [
              "<div>\n",
              "<style scoped>\n",
              "    .dataframe tbody tr th:only-of-type {\n",
              "        vertical-align: middle;\n",
              "    }\n",
              "\n",
              "    .dataframe tbody tr th {\n",
              "        vertical-align: top;\n",
              "    }\n",
              "\n",
              "    .dataframe thead th {\n",
              "        text-align: right;\n",
              "    }\n",
              "</style>\n",
              "<table border=\"1\" class=\"dataframe\">\n",
              "  <thead>\n",
              "    <tr style=\"text-align: right;\">\n",
              "      <th></th>\n",
              "      <th>UpdatedAt</th>\n",
              "      <th>customerID</th>\n",
              "      <th>gender</th>\n",
              "      <th>SeniorCitizen</th>\n",
              "      <th>Partner</th>\n",
              "      <th>Dependents</th>\n",
              "      <th>tenure</th>\n",
              "      <th>PhoneService</th>\n",
              "      <th>MultipleLines</th>\n",
              "      <th>InternetService</th>\n",
              "      <th>OnlineSecurity</th>\n",
              "      <th>OnlineBackup</th>\n",
              "      <th>DeviceProtection</th>\n",
              "      <th>TechSupport</th>\n",
              "      <th>StreamingTV</th>\n",
              "      <th>StreamingMovies</th>\n",
              "      <th>Contract</th>\n",
              "      <th>PaperlessBilling</th>\n",
              "      <th>PaymentMethod</th>\n",
              "      <th>MonthlyCharges</th>\n",
              "      <th>TotalCharges</th>\n",
              "      <th>Churn</th>\n",
              "    </tr>\n",
              "  </thead>\n",
              "  <tbody>\n",
              "    <tr>\n",
              "      <th>0</th>\n",
              "      <td>202006</td>\n",
              "      <td>45759018157</td>\n",
              "      <td>Female</td>\n",
              "      <td>0</td>\n",
              "      <td>Yes</td>\n",
              "      <td>No</td>\n",
              "      <td>1.0</td>\n",
              "      <td>No</td>\n",
              "      <td>No phone service</td>\n",
              "      <td>DSL</td>\n",
              "      <td>No</td>\n",
              "      <td>Yes</td>\n",
              "      <td>No</td>\n",
              "      <td>No</td>\n",
              "      <td>No</td>\n",
              "      <td>No</td>\n",
              "      <td>Month-to-month</td>\n",
              "      <td>Yes</td>\n",
              "      <td>Electronic check</td>\n",
              "      <td>29.85</td>\n",
              "      <td>29.85</td>\n",
              "      <td>No</td>\n",
              "    </tr>\n",
              "    <tr>\n",
              "      <th>1</th>\n",
              "      <td>202006</td>\n",
              "      <td>45557574145</td>\n",
              "      <td>Male</td>\n",
              "      <td>0</td>\n",
              "      <td>No</td>\n",
              "      <td>No</td>\n",
              "      <td>34.0</td>\n",
              "      <td>Yes</td>\n",
              "      <td>No</td>\n",
              "      <td>DSL</td>\n",
              "      <td>Yes</td>\n",
              "      <td>No</td>\n",
              "      <td>Yes</td>\n",
              "      <td>No</td>\n",
              "      <td>No</td>\n",
              "      <td>No</td>\n",
              "      <td>One year</td>\n",
              "      <td>No</td>\n",
              "      <td>Mailed check</td>\n",
              "      <td>56.95</td>\n",
              "      <td>1889.50</td>\n",
              "      <td>No</td>\n",
              "    </tr>\n",
              "    <tr>\n",
              "      <th>2</th>\n",
              "      <td>202006</td>\n",
              "      <td>45366876421</td>\n",
              "      <td>Male</td>\n",
              "      <td>0</td>\n",
              "      <td>No</td>\n",
              "      <td>No</td>\n",
              "      <td>2.0</td>\n",
              "      <td>Yes</td>\n",
              "      <td>No</td>\n",
              "      <td>DSL</td>\n",
              "      <td>Yes</td>\n",
              "      <td>Yes</td>\n",
              "      <td>No</td>\n",
              "      <td>No</td>\n",
              "      <td>No</td>\n",
              "      <td>No</td>\n",
              "      <td>Month-to-month</td>\n",
              "      <td>Yes</td>\n",
              "      <td>Mailed check</td>\n",
              "      <td>53.85</td>\n",
              "      <td>108.15</td>\n",
              "      <td>Yes</td>\n",
              "    </tr>\n",
              "    <tr>\n",
              "      <th>3</th>\n",
              "      <td>202006</td>\n",
              "      <td>45779536532</td>\n",
              "      <td>Male</td>\n",
              "      <td>0</td>\n",
              "      <td>No</td>\n",
              "      <td>No</td>\n",
              "      <td>45.0</td>\n",
              "      <td>No</td>\n",
              "      <td>No phone service</td>\n",
              "      <td>DSL</td>\n",
              "      <td>Yes</td>\n",
              "      <td>No</td>\n",
              "      <td>Yes</td>\n",
              "      <td>Yes</td>\n",
              "      <td>No</td>\n",
              "      <td>No</td>\n",
              "      <td>One year</td>\n",
              "      <td>No</td>\n",
              "      <td>Bank transfer (automatic)</td>\n",
              "      <td>42.30</td>\n",
              "      <td>1840.75</td>\n",
              "      <td>No</td>\n",
              "    </tr>\n",
              "    <tr>\n",
              "      <th>4</th>\n",
              "      <td>202006</td>\n",
              "      <td>45923787906</td>\n",
              "      <td>Female</td>\n",
              "      <td>0</td>\n",
              "      <td>No</td>\n",
              "      <td>No</td>\n",
              "      <td>2.0</td>\n",
              "      <td>Yes</td>\n",
              "      <td>No</td>\n",
              "      <td>Fiber optic</td>\n",
              "      <td>No</td>\n",
              "      <td>No</td>\n",
              "      <td>No</td>\n",
              "      <td>No</td>\n",
              "      <td>No</td>\n",
              "      <td>No</td>\n",
              "      <td>Month-to-month</td>\n",
              "      <td>Yes</td>\n",
              "      <td>Electronic check</td>\n",
              "      <td>70.70</td>\n",
              "      <td>151.65</td>\n",
              "      <td>Yes</td>\n",
              "    </tr>\n",
              "  </tbody>\n",
              "</table>\n",
              "</div>"
            ],
            "text/plain": [
              "   UpdatedAt   customerID  gender  SeniorCitizen Partner Dependents  tenure  \\\n",
              "0     202006  45759018157  Female              0     Yes         No     1.0   \n",
              "1     202006  45557574145    Male              0      No         No    34.0   \n",
              "2     202006  45366876421    Male              0      No         No     2.0   \n",
              "3     202006  45779536532    Male              0      No         No    45.0   \n",
              "4     202006  45923787906  Female              0      No         No     2.0   \n",
              "\n",
              "  PhoneService     MultipleLines InternetService OnlineSecurity OnlineBackup  \\\n",
              "0           No  No phone service             DSL             No          Yes   \n",
              "1          Yes                No             DSL            Yes           No   \n",
              "2          Yes                No             DSL            Yes          Yes   \n",
              "3           No  No phone service             DSL            Yes           No   \n",
              "4          Yes                No     Fiber optic             No           No   \n",
              "\n",
              "  DeviceProtection TechSupport StreamingTV StreamingMovies        Contract  \\\n",
              "0               No          No          No              No  Month-to-month   \n",
              "1              Yes          No          No              No        One year   \n",
              "2               No          No          No              No  Month-to-month   \n",
              "3              Yes         Yes          No              No        One year   \n",
              "4               No          No          No              No  Month-to-month   \n",
              "\n",
              "  PaperlessBilling              PaymentMethod  MonthlyCharges  TotalCharges  \\\n",
              "0              Yes           Electronic check           29.85         29.85   \n",
              "1               No               Mailed check           56.95       1889.50   \n",
              "2              Yes               Mailed check           53.85        108.15   \n",
              "3               No  Bank transfer (automatic)           42.30       1840.75   \n",
              "4              Yes           Electronic check           70.70        151.65   \n",
              "\n",
              "  Churn  \n",
              "0    No  \n",
              "1    No  \n",
              "2   Yes  \n",
              "3    No  \n",
              "4   Yes  "
            ]
          },
          "metadata": {
            "tags": []
          },
          "execution_count": 3
        }
      ]
    },
    {
      "cell_type": "code",
      "metadata": {
        "id": "TlALYpFkp7O_",
        "colab_type": "code",
        "colab": {},
        "outputId": "182e9994-7ddc-473d-c348-84f14bc6c5dd"
      },
      "source": [
        "df.shape"
      ],
      "execution_count": null,
      "outputs": [
        {
          "output_type": "execute_result",
          "data": {
            "text/plain": [
              "(7113, 22)"
            ]
          },
          "metadata": {
            "tags": []
          },
          "execution_count": 4
        }
      ]
    },
    {
      "cell_type": "markdown",
      "metadata": {
        "id": "Z1QNEXpVp7PH",
        "colab_type": "text"
      },
      "source": [
        "##  I. Number of Customers"
      ]
    },
    {
      "cell_type": "code",
      "metadata": {
        "id": "YIb4FY6sp7PI",
        "colab_type": "code",
        "colab": {},
        "outputId": "ff4f4c3a-f34f-46ed-fd7c-f39dcaf733df"
      },
      "source": [
        "## number of customers\n",
        "df['customerID'].nunique()"
      ],
      "execution_count": null,
      "outputs": [
        {
          "output_type": "execute_result",
          "data": {
            "text/plain": [
              "7017"
            ]
          },
          "metadata": {
            "tags": []
          },
          "execution_count": 5
        }
      ]
    },
    {
      "cell_type": "markdown",
      "metadata": {
        "id": "MBT3s0E7p7PP",
        "colab_type": "text"
      },
      "source": [
        "## II. Filtering customerID with Specific Format\n",
        "\n",
        "Format : \n",
        "- The lenght of the characthers is 11-12\n",
        "- It only consist of numbers, no characthers other than numbers.\n",
        "- Starting with the number 45 the firts 2 digit\n",
        "\n",
        "Example :\n",
        "45759018157"
      ]
    },
    {
      "cell_type": "code",
      "metadata": {
        "id": "I1xSREjzp7PQ",
        "colab_type": "code",
        "colab": {}
      },
      "source": [
        "df['valid_id'] = df['customerID'].astype(str).str.match(r'45\\d{9,10}') "
      ],
      "execution_count": null,
      "outputs": []
    },
    {
      "cell_type": "code",
      "metadata": {
        "id": "-oCo81gyp7Pf",
        "colab_type": "code",
        "colab": {},
        "outputId": "0d89567b-b8e0-4e55-a2f0-1317dee461ca"
      },
      "source": [
        "# filtered data\n",
        "df = df[df['valid_id'] == True]\n",
        "print(\"Total Data = \", len(df))"
      ],
      "execution_count": null,
      "outputs": [
        {
          "output_type": "stream",
          "text": [
            "Total Data =  7006\n"
          ],
          "name": "stdout"
        }
      ]
    },
    {
      "cell_type": "code",
      "metadata": {
        "id": "yG7erxiep7Pn",
        "colab_type": "code",
        "colab": {},
        "outputId": "242f4e79-2ef5-4a0d-b0bc-e7cdafc32e55"
      },
      "source": [
        "#delete valid_id column\n",
        "df.drop('valid_id',axis=1)\n",
        "df"
      ],
      "execution_count": null,
      "outputs": [
        {
          "output_type": "execute_result",
          "data": {
            "text/html": [
              "<div>\n",
              "<style scoped>\n",
              "    .dataframe tbody tr th:only-of-type {\n",
              "        vertical-align: middle;\n",
              "    }\n",
              "\n",
              "    .dataframe tbody tr th {\n",
              "        vertical-align: top;\n",
              "    }\n",
              "\n",
              "    .dataframe thead th {\n",
              "        text-align: right;\n",
              "    }\n",
              "</style>\n",
              "<table border=\"1\" class=\"dataframe\">\n",
              "  <thead>\n",
              "    <tr style=\"text-align: right;\">\n",
              "      <th></th>\n",
              "      <th>UpdatedAt</th>\n",
              "      <th>customerID</th>\n",
              "      <th>gender</th>\n",
              "      <th>SeniorCitizen</th>\n",
              "      <th>Partner</th>\n",
              "      <th>Dependents</th>\n",
              "      <th>tenure</th>\n",
              "      <th>PhoneService</th>\n",
              "      <th>MultipleLines</th>\n",
              "      <th>InternetService</th>\n",
              "      <th>OnlineSecurity</th>\n",
              "      <th>OnlineBackup</th>\n",
              "      <th>DeviceProtection</th>\n",
              "      <th>TechSupport</th>\n",
              "      <th>StreamingTV</th>\n",
              "      <th>StreamingMovies</th>\n",
              "      <th>Contract</th>\n",
              "      <th>PaperlessBilling</th>\n",
              "      <th>PaymentMethod</th>\n",
              "      <th>MonthlyCharges</th>\n",
              "      <th>TotalCharges</th>\n",
              "      <th>Churn</th>\n",
              "      <th>valid_id</th>\n",
              "    </tr>\n",
              "  </thead>\n",
              "  <tbody>\n",
              "    <tr>\n",
              "      <th>0</th>\n",
              "      <td>202006</td>\n",
              "      <td>45759018157</td>\n",
              "      <td>Female</td>\n",
              "      <td>0</td>\n",
              "      <td>Yes</td>\n",
              "      <td>No</td>\n",
              "      <td>1.0</td>\n",
              "      <td>No</td>\n",
              "      <td>No phone service</td>\n",
              "      <td>DSL</td>\n",
              "      <td>No</td>\n",
              "      <td>Yes</td>\n",
              "      <td>No</td>\n",
              "      <td>No</td>\n",
              "      <td>No</td>\n",
              "      <td>No</td>\n",
              "      <td>Month-to-month</td>\n",
              "      <td>Yes</td>\n",
              "      <td>Electronic check</td>\n",
              "      <td>29.85</td>\n",
              "      <td>29.85</td>\n",
              "      <td>No</td>\n",
              "      <td>True</td>\n",
              "    </tr>\n",
              "    <tr>\n",
              "      <th>1</th>\n",
              "      <td>202006</td>\n",
              "      <td>45557574145</td>\n",
              "      <td>Male</td>\n",
              "      <td>0</td>\n",
              "      <td>No</td>\n",
              "      <td>No</td>\n",
              "      <td>34.0</td>\n",
              "      <td>Yes</td>\n",
              "      <td>No</td>\n",
              "      <td>DSL</td>\n",
              "      <td>Yes</td>\n",
              "      <td>No</td>\n",
              "      <td>Yes</td>\n",
              "      <td>No</td>\n",
              "      <td>No</td>\n",
              "      <td>No</td>\n",
              "      <td>One year</td>\n",
              "      <td>No</td>\n",
              "      <td>Mailed check</td>\n",
              "      <td>56.95</td>\n",
              "      <td>1889.50</td>\n",
              "      <td>No</td>\n",
              "      <td>True</td>\n",
              "    </tr>\n",
              "    <tr>\n",
              "      <th>2</th>\n",
              "      <td>202006</td>\n",
              "      <td>45366876421</td>\n",
              "      <td>Male</td>\n",
              "      <td>0</td>\n",
              "      <td>No</td>\n",
              "      <td>No</td>\n",
              "      <td>2.0</td>\n",
              "      <td>Yes</td>\n",
              "      <td>No</td>\n",
              "      <td>DSL</td>\n",
              "      <td>Yes</td>\n",
              "      <td>Yes</td>\n",
              "      <td>No</td>\n",
              "      <td>No</td>\n",
              "      <td>No</td>\n",
              "      <td>No</td>\n",
              "      <td>Month-to-month</td>\n",
              "      <td>Yes</td>\n",
              "      <td>Mailed check</td>\n",
              "      <td>53.85</td>\n",
              "      <td>108.15</td>\n",
              "      <td>Yes</td>\n",
              "      <td>True</td>\n",
              "    </tr>\n",
              "    <tr>\n",
              "      <th>3</th>\n",
              "      <td>202006</td>\n",
              "      <td>45779536532</td>\n",
              "      <td>Male</td>\n",
              "      <td>0</td>\n",
              "      <td>No</td>\n",
              "      <td>No</td>\n",
              "      <td>45.0</td>\n",
              "      <td>No</td>\n",
              "      <td>No phone service</td>\n",
              "      <td>DSL</td>\n",
              "      <td>Yes</td>\n",
              "      <td>No</td>\n",
              "      <td>Yes</td>\n",
              "      <td>Yes</td>\n",
              "      <td>No</td>\n",
              "      <td>No</td>\n",
              "      <td>One year</td>\n",
              "      <td>No</td>\n",
              "      <td>Bank transfer (automatic)</td>\n",
              "      <td>42.30</td>\n",
              "      <td>1840.75</td>\n",
              "      <td>No</td>\n",
              "      <td>True</td>\n",
              "    </tr>\n",
              "    <tr>\n",
              "      <th>4</th>\n",
              "      <td>202006</td>\n",
              "      <td>45923787906</td>\n",
              "      <td>Female</td>\n",
              "      <td>0</td>\n",
              "      <td>No</td>\n",
              "      <td>No</td>\n",
              "      <td>2.0</td>\n",
              "      <td>Yes</td>\n",
              "      <td>No</td>\n",
              "      <td>Fiber optic</td>\n",
              "      <td>No</td>\n",
              "      <td>No</td>\n",
              "      <td>No</td>\n",
              "      <td>No</td>\n",
              "      <td>No</td>\n",
              "      <td>No</td>\n",
              "      <td>Month-to-month</td>\n",
              "      <td>Yes</td>\n",
              "      <td>Electronic check</td>\n",
              "      <td>70.70</td>\n",
              "      <td>151.65</td>\n",
              "      <td>Yes</td>\n",
              "      <td>True</td>\n",
              "    </tr>\n",
              "    <tr>\n",
              "      <th>...</th>\n",
              "      <td>...</td>\n",
              "      <td>...</td>\n",
              "      <td>...</td>\n",
              "      <td>...</td>\n",
              "      <td>...</td>\n",
              "      <td>...</td>\n",
              "      <td>...</td>\n",
              "      <td>...</td>\n",
              "      <td>...</td>\n",
              "      <td>...</td>\n",
              "      <td>...</td>\n",
              "      <td>...</td>\n",
              "      <td>...</td>\n",
              "      <td>...</td>\n",
              "      <td>...</td>\n",
              "      <td>...</td>\n",
              "      <td>...</td>\n",
              "      <td>...</td>\n",
              "      <td>...</td>\n",
              "      <td>...</td>\n",
              "      <td>...</td>\n",
              "      <td>...</td>\n",
              "      <td>...</td>\n",
              "    </tr>\n",
              "    <tr>\n",
              "      <th>7108</th>\n",
              "      <td>202006</td>\n",
              "      <td>45117219093</td>\n",
              "      <td>Male</td>\n",
              "      <td>0</td>\n",
              "      <td>Yes</td>\n",
              "      <td>Yes</td>\n",
              "      <td>53.0</td>\n",
              "      <td>Yes</td>\n",
              "      <td>Yes</td>\n",
              "      <td>DSL</td>\n",
              "      <td>Yes</td>\n",
              "      <td>Yes</td>\n",
              "      <td>No</td>\n",
              "      <td>No</td>\n",
              "      <td>No</td>\n",
              "      <td>Yes</td>\n",
              "      <td>Two year</td>\n",
              "      <td>No</td>\n",
              "      <td>Bank transfer (automatic)</td>\n",
              "      <td>69.70</td>\n",
              "      <td>3686.05</td>\n",
              "      <td>NaN</td>\n",
              "      <td>True</td>\n",
              "    </tr>\n",
              "    <tr>\n",
              "      <th>7109</th>\n",
              "      <td>202006</td>\n",
              "      <td>45564915800</td>\n",
              "      <td>Female</td>\n",
              "      <td>0</td>\n",
              "      <td>No</td>\n",
              "      <td>No</td>\n",
              "      <td>12.0</td>\n",
              "      <td>Yes</td>\n",
              "      <td>No</td>\n",
              "      <td>Fiber optic</td>\n",
              "      <td>No</td>\n",
              "      <td>No</td>\n",
              "      <td>Yes</td>\n",
              "      <td>No</td>\n",
              "      <td>Yes</td>\n",
              "      <td>Yes</td>\n",
              "      <td>One year</td>\n",
              "      <td>No</td>\n",
              "      <td>Mailed check</td>\n",
              "      <td>95.50</td>\n",
              "      <td>1115.15</td>\n",
              "      <td>NaN</td>\n",
              "      <td>True</td>\n",
              "    </tr>\n",
              "    <tr>\n",
              "      <th>7110</th>\n",
              "      <td>202006</td>\n",
              "      <td>45655964195</td>\n",
              "      <td>Male</td>\n",
              "      <td>0</td>\n",
              "      <td>No</td>\n",
              "      <td>No</td>\n",
              "      <td>26.0</td>\n",
              "      <td>Yes</td>\n",
              "      <td>No</td>\n",
              "      <td>Fiber optic</td>\n",
              "      <td>No</td>\n",
              "      <td>No</td>\n",
              "      <td>Yes</td>\n",
              "      <td>Yes</td>\n",
              "      <td>Yes</td>\n",
              "      <td>Yes</td>\n",
              "      <td>Month-to-month</td>\n",
              "      <td>Yes</td>\n",
              "      <td>Electronic check</td>\n",
              "      <td>98.65</td>\n",
              "      <td>2537.00</td>\n",
              "      <td>NaN</td>\n",
              "      <td>True</td>\n",
              "    </tr>\n",
              "    <tr>\n",
              "      <th>7111</th>\n",
              "      <td>202006</td>\n",
              "      <td>45899251814</td>\n",
              "      <td>Male</td>\n",
              "      <td>0</td>\n",
              "      <td>No</td>\n",
              "      <td>No</td>\n",
              "      <td>21.0</td>\n",
              "      <td>Yes</td>\n",
              "      <td>No</td>\n",
              "      <td>DSL</td>\n",
              "      <td>No</td>\n",
              "      <td>No</td>\n",
              "      <td>Yes</td>\n",
              "      <td>No</td>\n",
              "      <td>No</td>\n",
              "      <td>Yes</td>\n",
              "      <td>Month-to-month</td>\n",
              "      <td>No</td>\n",
              "      <td>Mailed check</td>\n",
              "      <td>61.65</td>\n",
              "      <td>1393.60</td>\n",
              "      <td>NaN</td>\n",
              "      <td>True</td>\n",
              "    </tr>\n",
              "    <tr>\n",
              "      <th>7112</th>\n",
              "      <td>202006</td>\n",
              "      <td>45427332508</td>\n",
              "      <td>Female</td>\n",
              "      <td>0</td>\n",
              "      <td>No</td>\n",
              "      <td>Yes</td>\n",
              "      <td>1.0</td>\n",
              "      <td>Yes</td>\n",
              "      <td>No</td>\n",
              "      <td>Fiber optic</td>\n",
              "      <td>No</td>\n",
              "      <td>No</td>\n",
              "      <td>No</td>\n",
              "      <td>No</td>\n",
              "      <td>Yes</td>\n",
              "      <td>Yes</td>\n",
              "      <td>Month-to-month</td>\n",
              "      <td>Yes</td>\n",
              "      <td>Electronic check</td>\n",
              "      <td>89.35</td>\n",
              "      <td>89.35</td>\n",
              "      <td>NaN</td>\n",
              "      <td>True</td>\n",
              "    </tr>\n",
              "  </tbody>\n",
              "</table>\n",
              "<p>7006 rows × 23 columns</p>\n",
              "</div>"
            ],
            "text/plain": [
              "      UpdatedAt   customerID  gender  SeniorCitizen Partner Dependents  \\\n",
              "0        202006  45759018157  Female              0     Yes         No   \n",
              "1        202006  45557574145    Male              0      No         No   \n",
              "2        202006  45366876421    Male              0      No         No   \n",
              "3        202006  45779536532    Male              0      No         No   \n",
              "4        202006  45923787906  Female              0      No         No   \n",
              "...         ...          ...     ...            ...     ...        ...   \n",
              "7108     202006  45117219093    Male              0     Yes        Yes   \n",
              "7109     202006  45564915800  Female              0      No         No   \n",
              "7110     202006  45655964195    Male              0      No         No   \n",
              "7111     202006  45899251814    Male              0      No         No   \n",
              "7112     202006  45427332508  Female              0      No        Yes   \n",
              "\n",
              "      tenure PhoneService     MultipleLines InternetService OnlineSecurity  \\\n",
              "0        1.0           No  No phone service             DSL             No   \n",
              "1       34.0          Yes                No             DSL            Yes   \n",
              "2        2.0          Yes                No             DSL            Yes   \n",
              "3       45.0           No  No phone service             DSL            Yes   \n",
              "4        2.0          Yes                No     Fiber optic             No   \n",
              "...      ...          ...               ...             ...            ...   \n",
              "7108    53.0          Yes               Yes             DSL            Yes   \n",
              "7109    12.0          Yes                No     Fiber optic             No   \n",
              "7110    26.0          Yes                No     Fiber optic             No   \n",
              "7111    21.0          Yes                No             DSL             No   \n",
              "7112     1.0          Yes                No     Fiber optic             No   \n",
              "\n",
              "     OnlineBackup DeviceProtection TechSupport StreamingTV StreamingMovies  \\\n",
              "0             Yes               No          No          No              No   \n",
              "1              No              Yes          No          No              No   \n",
              "2             Yes               No          No          No              No   \n",
              "3              No              Yes         Yes          No              No   \n",
              "4              No               No          No          No              No   \n",
              "...           ...              ...         ...         ...             ...   \n",
              "7108          Yes               No          No          No             Yes   \n",
              "7109           No              Yes          No         Yes             Yes   \n",
              "7110           No              Yes         Yes         Yes             Yes   \n",
              "7111           No              Yes          No          No             Yes   \n",
              "7112           No               No          No         Yes             Yes   \n",
              "\n",
              "            Contract PaperlessBilling              PaymentMethod  \\\n",
              "0     Month-to-month              Yes           Electronic check   \n",
              "1           One year               No               Mailed check   \n",
              "2     Month-to-month              Yes               Mailed check   \n",
              "3           One year               No  Bank transfer (automatic)   \n",
              "4     Month-to-month              Yes           Electronic check   \n",
              "...              ...              ...                        ...   \n",
              "7108        Two year               No  Bank transfer (automatic)   \n",
              "7109        One year               No               Mailed check   \n",
              "7110  Month-to-month              Yes           Electronic check   \n",
              "7111  Month-to-month               No               Mailed check   \n",
              "7112  Month-to-month              Yes           Electronic check   \n",
              "\n",
              "      MonthlyCharges  TotalCharges Churn  valid_id  \n",
              "0              29.85         29.85    No      True  \n",
              "1              56.95       1889.50    No      True  \n",
              "2              53.85        108.15   Yes      True  \n",
              "3              42.30       1840.75    No      True  \n",
              "4              70.70        151.65   Yes      True  \n",
              "...              ...           ...   ...       ...  \n",
              "7108           69.70       3686.05   NaN      True  \n",
              "7109           95.50       1115.15   NaN      True  \n",
              "7110           98.65       2537.00   NaN      True  \n",
              "7111           61.65       1393.60   NaN      True  \n",
              "7112           89.35         89.35   NaN      True  \n",
              "\n",
              "[7006 rows x 23 columns]"
            ]
          },
          "metadata": {
            "tags": []
          },
          "execution_count": 8
        }
      ]
    },
    {
      "cell_type": "markdown",
      "metadata": {
        "id": "vfEltZnMp7Ps",
        "colab_type": "text"
      },
      "source": [
        "## III. Filtering for Duplicate customerID Numbers"
      ]
    },
    {
      "cell_type": "code",
      "metadata": {
        "id": "S0wpTuuZp7Pt",
        "colab_type": "code",
        "colab": {}
      },
      "source": [
        "# Drop duplicates rows\n",
        "df.drop_duplicates()\n",
        "# Drop duplicates id sorted by periode \n",
        "df = df.sort_values('UpdatedAt',ascending=False)\n",
        "df = df.drop_duplicates('customerID')"
      ],
      "execution_count": null,
      "outputs": []
    },
    {
      "cell_type": "code",
      "metadata": {
        "id": "HTwT2gQTp7Px",
        "colab_type": "code",
        "colab": {},
        "outputId": "3d131976-370b-461d-9013-7e795b436d7a"
      },
      "source": [
        "df"
      ],
      "execution_count": null,
      "outputs": [
        {
          "output_type": "execute_result",
          "data": {
            "text/html": [
              "<div>\n",
              "<style scoped>\n",
              "    .dataframe tbody tr th:only-of-type {\n",
              "        vertical-align: middle;\n",
              "    }\n",
              "\n",
              "    .dataframe tbody tr th {\n",
              "        vertical-align: top;\n",
              "    }\n",
              "\n",
              "    .dataframe thead th {\n",
              "        text-align: right;\n",
              "    }\n",
              "</style>\n",
              "<table border=\"1\" class=\"dataframe\">\n",
              "  <thead>\n",
              "    <tr style=\"text-align: right;\">\n",
              "      <th></th>\n",
              "      <th>UpdatedAt</th>\n",
              "      <th>customerID</th>\n",
              "      <th>gender</th>\n",
              "      <th>SeniorCitizen</th>\n",
              "      <th>Partner</th>\n",
              "      <th>Dependents</th>\n",
              "      <th>tenure</th>\n",
              "      <th>PhoneService</th>\n",
              "      <th>MultipleLines</th>\n",
              "      <th>InternetService</th>\n",
              "      <th>OnlineSecurity</th>\n",
              "      <th>OnlineBackup</th>\n",
              "      <th>DeviceProtection</th>\n",
              "      <th>TechSupport</th>\n",
              "      <th>StreamingTV</th>\n",
              "      <th>StreamingMovies</th>\n",
              "      <th>Contract</th>\n",
              "      <th>PaperlessBilling</th>\n",
              "      <th>PaymentMethod</th>\n",
              "      <th>MonthlyCharges</th>\n",
              "      <th>TotalCharges</th>\n",
              "      <th>Churn</th>\n",
              "      <th>valid_id</th>\n",
              "    </tr>\n",
              "  </thead>\n",
              "  <tbody>\n",
              "    <tr>\n",
              "      <th>0</th>\n",
              "      <td>202006</td>\n",
              "      <td>45759018157</td>\n",
              "      <td>Female</td>\n",
              "      <td>0</td>\n",
              "      <td>Yes</td>\n",
              "      <td>No</td>\n",
              "      <td>1.0</td>\n",
              "      <td>No</td>\n",
              "      <td>No phone service</td>\n",
              "      <td>DSL</td>\n",
              "      <td>No</td>\n",
              "      <td>Yes</td>\n",
              "      <td>No</td>\n",
              "      <td>No</td>\n",
              "      <td>No</td>\n",
              "      <td>No</td>\n",
              "      <td>Month-to-month</td>\n",
              "      <td>Yes</td>\n",
              "      <td>Electronic check</td>\n",
              "      <td>29.85</td>\n",
              "      <td>29.85</td>\n",
              "      <td>No</td>\n",
              "      <td>True</td>\n",
              "    </tr>\n",
              "    <tr>\n",
              "      <th>4727</th>\n",
              "      <td>202006</td>\n",
              "      <td>45315483266</td>\n",
              "      <td>Male</td>\n",
              "      <td>0</td>\n",
              "      <td>Yes</td>\n",
              "      <td>No</td>\n",
              "      <td>60.0</td>\n",
              "      <td>Yes</td>\n",
              "      <td>No</td>\n",
              "      <td>No</td>\n",
              "      <td>No internet service</td>\n",
              "      <td>No internet service</td>\n",
              "      <td>No internet service</td>\n",
              "      <td>No internet service</td>\n",
              "      <td>No internet service</td>\n",
              "      <td>No internet service</td>\n",
              "      <td>Two year</td>\n",
              "      <td>Yes</td>\n",
              "      <td>Bank transfer (automatic)</td>\n",
              "      <td>20.50</td>\n",
              "      <td>1198.80</td>\n",
              "      <td>No</td>\n",
              "      <td>True</td>\n",
              "    </tr>\n",
              "    <tr>\n",
              "      <th>4738</th>\n",
              "      <td>202006</td>\n",
              "      <td>45236961615</td>\n",
              "      <td>Male</td>\n",
              "      <td>0</td>\n",
              "      <td>No</td>\n",
              "      <td>No</td>\n",
              "      <td>5.0</td>\n",
              "      <td>Yes</td>\n",
              "      <td>Yes</td>\n",
              "      <td>Fiber optic</td>\n",
              "      <td>No</td>\n",
              "      <td>Yes</td>\n",
              "      <td>Yes</td>\n",
              "      <td>No</td>\n",
              "      <td>Yes</td>\n",
              "      <td>Yes</td>\n",
              "      <td>Month-to-month</td>\n",
              "      <td>No</td>\n",
              "      <td>Mailed check</td>\n",
              "      <td>104.10</td>\n",
              "      <td>541.90</td>\n",
              "      <td>Yes</td>\n",
              "      <td>True</td>\n",
              "    </tr>\n",
              "    <tr>\n",
              "      <th>4737</th>\n",
              "      <td>202006</td>\n",
              "      <td>45929827382</td>\n",
              "      <td>Female</td>\n",
              "      <td>0</td>\n",
              "      <td>Yes</td>\n",
              "      <td>No</td>\n",
              "      <td>72.0</td>\n",
              "      <td>Yes</td>\n",
              "      <td>Yes</td>\n",
              "      <td>Fiber optic</td>\n",
              "      <td>Yes</td>\n",
              "      <td>Yes</td>\n",
              "      <td>Yes</td>\n",
              "      <td>Yes</td>\n",
              "      <td>Yes</td>\n",
              "      <td>Yes</td>\n",
              "      <td>Two year</td>\n",
              "      <td>Yes</td>\n",
              "      <td>Bank transfer (automatic)</td>\n",
              "      <td>115.50</td>\n",
              "      <td>8312.75</td>\n",
              "      <td>No</td>\n",
              "      <td>True</td>\n",
              "    </tr>\n",
              "    <tr>\n",
              "      <th>4736</th>\n",
              "      <td>202006</td>\n",
              "      <td>45305082233</td>\n",
              "      <td>Female</td>\n",
              "      <td>0</td>\n",
              "      <td>Yes</td>\n",
              "      <td>Yes</td>\n",
              "      <td>56.0</td>\n",
              "      <td>Yes</td>\n",
              "      <td>Yes</td>\n",
              "      <td>DSL</td>\n",
              "      <td>Yes</td>\n",
              "      <td>Yes</td>\n",
              "      <td>Yes</td>\n",
              "      <td>Yes</td>\n",
              "      <td>Yes</td>\n",
              "      <td>No</td>\n",
              "      <td>Two year</td>\n",
              "      <td>No</td>\n",
              "      <td>Credit card (automatic)</td>\n",
              "      <td>81.25</td>\n",
              "      <td>4620.40</td>\n",
              "      <td>No</td>\n",
              "      <td>True</td>\n",
              "    </tr>\n",
              "    <tr>\n",
              "      <th>...</th>\n",
              "      <td>...</td>\n",
              "      <td>...</td>\n",
              "      <td>...</td>\n",
              "      <td>...</td>\n",
              "      <td>...</td>\n",
              "      <td>...</td>\n",
              "      <td>...</td>\n",
              "      <td>...</td>\n",
              "      <td>...</td>\n",
              "      <td>...</td>\n",
              "      <td>...</td>\n",
              "      <td>...</td>\n",
              "      <td>...</td>\n",
              "      <td>...</td>\n",
              "      <td>...</td>\n",
              "      <td>...</td>\n",
              "      <td>...</td>\n",
              "      <td>...</td>\n",
              "      <td>...</td>\n",
              "      <td>...</td>\n",
              "      <td>...</td>\n",
              "      <td>...</td>\n",
              "      <td>...</td>\n",
              "    </tr>\n",
              "    <tr>\n",
              "      <th>2366</th>\n",
              "      <td>202006</td>\n",
              "      <td>45184632574</td>\n",
              "      <td>Female</td>\n",
              "      <td>1</td>\n",
              "      <td>No</td>\n",
              "      <td>No</td>\n",
              "      <td>1.0</td>\n",
              "      <td>Yes</td>\n",
              "      <td>No</td>\n",
              "      <td>Fiber optic</td>\n",
              "      <td>No</td>\n",
              "      <td>No</td>\n",
              "      <td>No</td>\n",
              "      <td>No</td>\n",
              "      <td>No</td>\n",
              "      <td>No</td>\n",
              "      <td>Month-to-month</td>\n",
              "      <td>Yes</td>\n",
              "      <td>Electronic check</td>\n",
              "      <td>70.15</td>\n",
              "      <td>70.15</td>\n",
              "      <td>Yes</td>\n",
              "      <td>True</td>\n",
              "    </tr>\n",
              "    <tr>\n",
              "      <th>2367</th>\n",
              "      <td>202006</td>\n",
              "      <td>45023517923</td>\n",
              "      <td>Female</td>\n",
              "      <td>0</td>\n",
              "      <td>No</td>\n",
              "      <td>No</td>\n",
              "      <td>1.0</td>\n",
              "      <td>Yes</td>\n",
              "      <td>No</td>\n",
              "      <td>Fiber optic</td>\n",
              "      <td>No</td>\n",
              "      <td>No</td>\n",
              "      <td>Yes</td>\n",
              "      <td>No</td>\n",
              "      <td>Yes</td>\n",
              "      <td>No</td>\n",
              "      <td>Month-to-month</td>\n",
              "      <td>Yes</td>\n",
              "      <td>Credit card (automatic)</td>\n",
              "      <td>85.55</td>\n",
              "      <td>85.55</td>\n",
              "      <td>Yes</td>\n",
              "      <td>True</td>\n",
              "    </tr>\n",
              "    <tr>\n",
              "      <th>2368</th>\n",
              "      <td>202006</td>\n",
              "      <td>45665022680</td>\n",
              "      <td>Female</td>\n",
              "      <td>0</td>\n",
              "      <td>Yes</td>\n",
              "      <td>No</td>\n",
              "      <td>72.0</td>\n",
              "      <td>Yes</td>\n",
              "      <td>Yes</td>\n",
              "      <td>Fiber optic</td>\n",
              "      <td>Yes</td>\n",
              "      <td>Yes</td>\n",
              "      <td>Yes</td>\n",
              "      <td>Yes</td>\n",
              "      <td>Yes</td>\n",
              "      <td>Yes</td>\n",
              "      <td>Two year</td>\n",
              "      <td>Yes</td>\n",
              "      <td>Credit card (automatic)</td>\n",
              "      <td>117.15</td>\n",
              "      <td>8529.50</td>\n",
              "      <td>No</td>\n",
              "      <td>True</td>\n",
              "    </tr>\n",
              "    <tr>\n",
              "      <th>2369</th>\n",
              "      <td>202006</td>\n",
              "      <td>45957014561</td>\n",
              "      <td>Male</td>\n",
              "      <td>0</td>\n",
              "      <td>No</td>\n",
              "      <td>No</td>\n",
              "      <td>64.0</td>\n",
              "      <td>Yes</td>\n",
              "      <td>Yes</td>\n",
              "      <td>Fiber optic</td>\n",
              "      <td>Yes</td>\n",
              "      <td>No</td>\n",
              "      <td>Yes</td>\n",
              "      <td>Yes</td>\n",
              "      <td>No</td>\n",
              "      <td>Yes</td>\n",
              "      <td>Two year</td>\n",
              "      <td>No</td>\n",
              "      <td>Credit card (automatic)</td>\n",
              "      <td>99.25</td>\n",
              "      <td>6549.45</td>\n",
              "      <td>No</td>\n",
              "      <td>True</td>\n",
              "    </tr>\n",
              "    <tr>\n",
              "      <th>7112</th>\n",
              "      <td>202006</td>\n",
              "      <td>45427332508</td>\n",
              "      <td>Female</td>\n",
              "      <td>0</td>\n",
              "      <td>No</td>\n",
              "      <td>Yes</td>\n",
              "      <td>1.0</td>\n",
              "      <td>Yes</td>\n",
              "      <td>No</td>\n",
              "      <td>Fiber optic</td>\n",
              "      <td>No</td>\n",
              "      <td>No</td>\n",
              "      <td>No</td>\n",
              "      <td>No</td>\n",
              "      <td>Yes</td>\n",
              "      <td>Yes</td>\n",
              "      <td>Month-to-month</td>\n",
              "      <td>Yes</td>\n",
              "      <td>Electronic check</td>\n",
              "      <td>89.35</td>\n",
              "      <td>89.35</td>\n",
              "      <td>NaN</td>\n",
              "      <td>True</td>\n",
              "    </tr>\n",
              "  </tbody>\n",
              "</table>\n",
              "<p>6993 rows × 23 columns</p>\n",
              "</div>"
            ],
            "text/plain": [
              "      UpdatedAt   customerID  gender  SeniorCitizen Partner Dependents  \\\n",
              "0        202006  45759018157  Female              0     Yes         No   \n",
              "4727     202006  45315483266    Male              0     Yes         No   \n",
              "4738     202006  45236961615    Male              0      No         No   \n",
              "4737     202006  45929827382  Female              0     Yes         No   \n",
              "4736     202006  45305082233  Female              0     Yes        Yes   \n",
              "...         ...          ...     ...            ...     ...        ...   \n",
              "2366     202006  45184632574  Female              1      No         No   \n",
              "2367     202006  45023517923  Female              0      No         No   \n",
              "2368     202006  45665022680  Female              0     Yes         No   \n",
              "2369     202006  45957014561    Male              0      No         No   \n",
              "7112     202006  45427332508  Female              0      No        Yes   \n",
              "\n",
              "      tenure PhoneService     MultipleLines InternetService  \\\n",
              "0        1.0           No  No phone service             DSL   \n",
              "4727    60.0          Yes                No              No   \n",
              "4738     5.0          Yes               Yes     Fiber optic   \n",
              "4737    72.0          Yes               Yes     Fiber optic   \n",
              "4736    56.0          Yes               Yes             DSL   \n",
              "...      ...          ...               ...             ...   \n",
              "2366     1.0          Yes                No     Fiber optic   \n",
              "2367     1.0          Yes                No     Fiber optic   \n",
              "2368    72.0          Yes               Yes     Fiber optic   \n",
              "2369    64.0          Yes               Yes     Fiber optic   \n",
              "7112     1.0          Yes                No     Fiber optic   \n",
              "\n",
              "           OnlineSecurity         OnlineBackup     DeviceProtection  \\\n",
              "0                      No                  Yes                   No   \n",
              "4727  No internet service  No internet service  No internet service   \n",
              "4738                   No                  Yes                  Yes   \n",
              "4737                  Yes                  Yes                  Yes   \n",
              "4736                  Yes                  Yes                  Yes   \n",
              "...                   ...                  ...                  ...   \n",
              "2366                   No                   No                   No   \n",
              "2367                   No                   No                  Yes   \n",
              "2368                  Yes                  Yes                  Yes   \n",
              "2369                  Yes                   No                  Yes   \n",
              "7112                   No                   No                   No   \n",
              "\n",
              "              TechSupport          StreamingTV      StreamingMovies  \\\n",
              "0                      No                   No                   No   \n",
              "4727  No internet service  No internet service  No internet service   \n",
              "4738                   No                  Yes                  Yes   \n",
              "4737                  Yes                  Yes                  Yes   \n",
              "4736                  Yes                  Yes                   No   \n",
              "...                   ...                  ...                  ...   \n",
              "2366                   No                   No                   No   \n",
              "2367                   No                  Yes                   No   \n",
              "2368                  Yes                  Yes                  Yes   \n",
              "2369                  Yes                   No                  Yes   \n",
              "7112                   No                  Yes                  Yes   \n",
              "\n",
              "            Contract PaperlessBilling              PaymentMethod  \\\n",
              "0     Month-to-month              Yes           Electronic check   \n",
              "4727        Two year              Yes  Bank transfer (automatic)   \n",
              "4738  Month-to-month               No               Mailed check   \n",
              "4737        Two year              Yes  Bank transfer (automatic)   \n",
              "4736        Two year               No    Credit card (automatic)   \n",
              "...              ...              ...                        ...   \n",
              "2366  Month-to-month              Yes           Electronic check   \n",
              "2367  Month-to-month              Yes    Credit card (automatic)   \n",
              "2368        Two year              Yes    Credit card (automatic)   \n",
              "2369        Two year               No    Credit card (automatic)   \n",
              "7112  Month-to-month              Yes           Electronic check   \n",
              "\n",
              "      MonthlyCharges  TotalCharges Churn  valid_id  \n",
              "0              29.85         29.85    No      True  \n",
              "4727           20.50       1198.80    No      True  \n",
              "4738          104.10        541.90   Yes      True  \n",
              "4737          115.50       8312.75    No      True  \n",
              "4736           81.25       4620.40    No      True  \n",
              "...              ...           ...   ...       ...  \n",
              "2366           70.15         70.15   Yes      True  \n",
              "2367           85.55         85.55   Yes      True  \n",
              "2368          117.15       8529.50    No      True  \n",
              "2369           99.25       6549.45    No      True  \n",
              "7112           89.35         89.35   NaN      True  \n",
              "\n",
              "[6993 rows x 23 columns]"
            ]
          },
          "metadata": {
            "tags": []
          },
          "execution_count": 10
        }
      ]
    },
    {
      "cell_type": "code",
      "metadata": {
        "id": "gdE2WmkVp7P3",
        "colab_type": "code",
        "colab": {},
        "outputId": "2a9ce49c-4cad-4468-e1ad-dea7759cbe09"
      },
      "source": [
        "#Total data after filtering\n",
        "print(df['customerID'].count())"
      ],
      "execution_count": null,
      "outputs": [
        {
          "output_type": "stream",
          "text": [
            "6993\n"
          ],
          "name": "stdout"
        }
      ]
    },
    {
      "cell_type": "markdown",
      "metadata": {
        "id": "D98eWwyWp7P8",
        "colab_type": "text"
      },
      "source": [
        "## IV. Resolving Missing Values by Deleting Rows"
      ]
    },
    {
      "cell_type": "code",
      "metadata": {
        "id": "8BQdYytFp7P9",
        "colab_type": "code",
        "colab": {},
        "outputId": "8d06900c-bf29-43ed-9d72-ce786e729950"
      },
      "source": [
        "# Missing values column churn \n",
        "missing_churn = df['Churn'].isnull().sum()\n",
        "print(\"Total missing values = \",missing_churn)"
      ],
      "execution_count": null,
      "outputs": [
        {
          "output_type": "stream",
          "text": [
            "Total missing values =  43\n"
          ],
          "name": "stdout"
        }
      ]
    },
    {
      "cell_type": "code",
      "metadata": {
        "id": "_g9QkoPVp7QC",
        "colab_type": "code",
        "colab": {}
      },
      "source": [
        "df.dropna(subset=['Churn'],inplace=True)"
      ],
      "execution_count": null,
      "outputs": []
    },
    {
      "cell_type": "code",
      "metadata": {
        "id": "YqTGNpDlp7QI",
        "colab_type": "code",
        "colab": {},
        "outputId": "594c7aaf-b963-4c34-afa5-a0bda9815b59"
      },
      "source": [
        "missing_churn = df['Churn'].isnull().sum()\n",
        "print(\"Total missing values = \",missing_churn)"
      ],
      "execution_count": null,
      "outputs": [
        {
          "output_type": "stream",
          "text": [
            "Total missing values =  0\n"
          ],
          "name": "stdout"
        }
      ]
    },
    {
      "cell_type": "code",
      "metadata": {
        "id": "EZHewCBBp7QK",
        "colab_type": "code",
        "colab": {},
        "outputId": "7d8d90cb-a741-4cf7-88d3-58cb0064af14"
      },
      "source": [
        "print(\"Total data = \", len(df))"
      ],
      "execution_count": null,
      "outputs": [
        {
          "output_type": "stream",
          "text": [
            "Total data =  6950\n"
          ],
          "name": "stdout"
        }
      ]
    },
    {
      "cell_type": "markdown",
      "metadata": {
        "id": "HowhhwlOp7QN",
        "colab_type": "text"
      },
      "source": [
        "## V - Resolving Missing Values by Filling in Specific Values"
      ]
    },
    {
      "cell_type": "code",
      "metadata": {
        "id": "9pJMTUszp7QO",
        "colab_type": "code",
        "colab": {},
        "outputId": "74bee380-a662-408d-ade2-07133ce77d63"
      },
      "source": [
        "# Status Missing Values from all columns\n",
        "df.isnull().values.any()"
      ],
      "execution_count": null,
      "outputs": [
        {
          "output_type": "execute_result",
          "data": {
            "text/plain": [
              "True"
            ]
          },
          "metadata": {
            "tags": []
          },
          "execution_count": 16
        }
      ]
    },
    {
      "cell_type": "code",
      "metadata": {
        "id": "vZ-wgmDvp7QS",
        "colab_type": "code",
        "colab": {},
        "outputId": "cf9326f0-1c1d-41e7-f724-f75b1a679b17"
      },
      "source": [
        "# Number of missing values for each columns\n",
        "df.isnull().sum().sort_values(ascending=False)"
      ],
      "execution_count": null,
      "outputs": [
        {
          "output_type": "execute_result",
          "data": {
            "text/plain": [
              "tenure              99\n",
              "MonthlyCharges      26\n",
              "TotalCharges        15\n",
              "valid_id             0\n",
              "InternetService      0\n",
              "customerID           0\n",
              "gender               0\n",
              "SeniorCitizen        0\n",
              "Partner              0\n",
              "Dependents           0\n",
              "PhoneService         0\n",
              "MultipleLines        0\n",
              "OnlineBackup         0\n",
              "OnlineSecurity       0\n",
              "Churn                0\n",
              "DeviceProtection     0\n",
              "TechSupport          0\n",
              "StreamingTV          0\n",
              "StreamingMovies      0\n",
              "Contract             0\n",
              "PaperlessBilling     0\n",
              "PaymentMethod        0\n",
              "UpdatedAt            0\n",
              "dtype: int64"
            ]
          },
          "metadata": {
            "tags": []
          },
          "execution_count": 17
        }
      ]
    },
    {
      "cell_type": "code",
      "metadata": {
        "id": "5l0bHaigp7Qp",
        "colab_type": "code",
        "colab": {}
      },
      "source": [
        "# Handling missing values Tenure fill with 11\n",
        "df['tenure'].fillna(11,inplace=True)"
      ],
      "execution_count": null,
      "outputs": []
    },
    {
      "cell_type": "code",
      "metadata": {
        "id": "vGETVuxgp7Qs",
        "colab_type": "code",
        "colab": {}
      },
      "source": [
        "# Handling missing values num vars(except Tenure)\n",
        "for col_name in list(['MonthlyCharges']):\n",
        "    median = df[col_name].median()\n",
        "    df[col_name].fillna(median,inplace=True) "
      ],
      "execution_count": null,
      "outputs": []
    },
    {
      "cell_type": "code",
      "metadata": {
        "id": "Y-0i-3Asp7Qu",
        "colab_type": "code",
        "colab": {}
      },
      "source": [
        "for col_name in list(['TotalCharges']):\n",
        "    median = df[col_name].median()\n",
        "    df[col_name].fillna(median,inplace=True) "
      ],
      "execution_count": null,
      "outputs": []
    },
    {
      "cell_type": "code",
      "metadata": {
        "id": "NtS3ZH0fp7Qy",
        "colab_type": "code",
        "colab": {},
        "outputId": "c0cdf09f-ab4a-43e2-ca86-63fe4044a0a9"
      },
      "source": [
        "# Number of missing values for each columns\n",
        "df.isnull().sum().sort_values(ascending=False)"
      ],
      "execution_count": null,
      "outputs": [
        {
          "output_type": "execute_result",
          "data": {
            "text/plain": [
              "valid_id            0\n",
              "OnlineSecurity      0\n",
              "customerID          0\n",
              "gender              0\n",
              "SeniorCitizen       0\n",
              "Partner             0\n",
              "Dependents          0\n",
              "tenure              0\n",
              "PhoneService        0\n",
              "MultipleLines       0\n",
              "InternetService     0\n",
              "OnlineBackup        0\n",
              "Churn               0\n",
              "DeviceProtection    0\n",
              "TechSupport         0\n",
              "StreamingTV         0\n",
              "StreamingMovies     0\n",
              "Contract            0\n",
              "PaperlessBilling    0\n",
              "PaymentMethod       0\n",
              "MonthlyCharges      0\n",
              "TotalCharges        0\n",
              "UpdatedAt           0\n",
              "dtype: int64"
            ]
          },
          "metadata": {
            "tags": []
          },
          "execution_count": 21
        }
      ]
    },
    {
      "cell_type": "markdown",
      "metadata": {
        "id": "FliyDnHYp7Q0",
        "colab_type": "text"
      },
      "source": [
        "## VI. Outlier Detetion with Boxplot"
      ]
    },
    {
      "cell_type": "code",
      "metadata": {
        "id": "DTk6PBJvp7Q1",
        "colab_type": "code",
        "colab": {},
        "outputId": "a518e067-351b-4bb1-b51b-64951b32f9d9"
      },
      "source": [
        "# Data distribution before outliers are handled\n",
        "df[['tenure','MonthlyCharges','TotalCharges']].describe()"
      ],
      "execution_count": null,
      "outputs": [
        {
          "output_type": "execute_result",
          "data": {
            "text/html": [
              "<div>\n",
              "<style scoped>\n",
              "    .dataframe tbody tr th:only-of-type {\n",
              "        vertical-align: middle;\n",
              "    }\n",
              "\n",
              "    .dataframe tbody tr th {\n",
              "        vertical-align: top;\n",
              "    }\n",
              "\n",
              "    .dataframe thead th {\n",
              "        text-align: right;\n",
              "    }\n",
              "</style>\n",
              "<table border=\"1\" class=\"dataframe\">\n",
              "  <thead>\n",
              "    <tr style=\"text-align: right;\">\n",
              "      <th></th>\n",
              "      <th>tenure</th>\n",
              "      <th>MonthlyCharges</th>\n",
              "      <th>TotalCharges</th>\n",
              "    </tr>\n",
              "  </thead>\n",
              "  <tbody>\n",
              "    <tr>\n",
              "      <th>count</th>\n",
              "      <td>6950.000000</td>\n",
              "      <td>6950.000000</td>\n",
              "      <td>6950.000000</td>\n",
              "    </tr>\n",
              "    <tr>\n",
              "      <th>mean</th>\n",
              "      <td>32.477266</td>\n",
              "      <td>65.783741</td>\n",
              "      <td>2305.083460</td>\n",
              "    </tr>\n",
              "    <tr>\n",
              "      <th>std</th>\n",
              "      <td>25.188910</td>\n",
              "      <td>50.457871</td>\n",
              "      <td>2578.651143</td>\n",
              "    </tr>\n",
              "    <tr>\n",
              "      <th>min</th>\n",
              "      <td>0.000000</td>\n",
              "      <td>0.000000</td>\n",
              "      <td>19.000000</td>\n",
              "    </tr>\n",
              "    <tr>\n",
              "      <th>25%</th>\n",
              "      <td>9.000000</td>\n",
              "      <td>36.462500</td>\n",
              "      <td>406.975000</td>\n",
              "    </tr>\n",
              "    <tr>\n",
              "      <th>50%</th>\n",
              "      <td>29.000000</td>\n",
              "      <td>70.450000</td>\n",
              "      <td>1400.850000</td>\n",
              "    </tr>\n",
              "    <tr>\n",
              "      <th>75%</th>\n",
              "      <td>55.000000</td>\n",
              "      <td>89.850000</td>\n",
              "      <td>3799.837500</td>\n",
              "    </tr>\n",
              "    <tr>\n",
              "      <th>max</th>\n",
              "      <td>500.000000</td>\n",
              "      <td>2311.000000</td>\n",
              "      <td>80000.000000</td>\n",
              "    </tr>\n",
              "  </tbody>\n",
              "</table>\n",
              "</div>"
            ],
            "text/plain": [
              "            tenure  MonthlyCharges  TotalCharges\n",
              "count  6950.000000     6950.000000   6950.000000\n",
              "mean     32.477266       65.783741   2305.083460\n",
              "std      25.188910       50.457871   2578.651143\n",
              "min       0.000000        0.000000     19.000000\n",
              "25%       9.000000       36.462500    406.975000\n",
              "50%      29.000000       70.450000   1400.850000\n",
              "75%      55.000000       89.850000   3799.837500\n",
              "max     500.000000     2311.000000  80000.000000"
            ]
          },
          "metadata": {
            "tags": []
          },
          "execution_count": 22
        }
      ]
    },
    {
      "cell_type": "code",
      "metadata": {
        "id": "ZFGwFwhCp7Q6",
        "colab_type": "code",
        "colab": {},
        "outputId": "d7796ce7-1db9-4bca-835f-b2db2e5c92df"
      },
      "source": [
        "# tenure\n",
        "plt.figure(figsize=(15,5))\n",
        "plt.title('Tenure')\n",
        "sns.boxplot(x=df['tenure'])\n",
        "plt.show()\n"
      ],
      "execution_count": null,
      "outputs": [
        {
          "output_type": "display_data",
          "data": {
            "image/png": "[encoded data removed]",
            "text/plain": [
              "<Figure size 1080x360 with 1 Axes>"
            ]
          },
          "metadata": {
            "tags": [],
            "needs_background": "light"
          }
        }
      ]
    },
    {
      "cell_type": "code",
      "metadata": {
        "id": "KpBnjKtxp7Q9",
        "colab_type": "code",
        "colab": {},
        "outputId": "a180282a-1cf6-49de-f47c-28ea70e1e7bf"
      },
      "source": [
        "plt.figure(figsize = (15,5))\n",
        "plt.title('MonthlyCharges')\n",
        "sns.boxplot(x=df['MonthlyCharges'])\n",
        "plt.show()\n"
      ],
      "execution_count": null,
      "outputs": [
        {
          "output_type": "display_data",
          "data": {
            "image/png": "[encoded data removed]",
            "text/plain": [
              "<Figure size 1080x360 with 1 Axes>"
            ]
          },
          "metadata": {
            "tags": [],
            "needs_background": "light"
          }
        }
      ]
    },
    {
      "cell_type": "code",
      "metadata": {
        "id": "5x5xMc5ep7RA",
        "colab_type": "code",
        "colab": {},
        "outputId": "123fda40-018d-4a91-d005-2ddaaa6dc2f4"
      },
      "source": [
        "plt.figure(figsize=(15,5))\n",
        "plt.title('TotalCharges')\n",
        "sns.boxplot(x=df['TotalCharges'])\n",
        "plt.show()"
      ],
      "execution_count": null,
      "outputs": [
        {
          "output_type": "display_data",
          "data": {
            "image/png": "[encoded data removed]",
            "text/plain": [
              "<Figure size 1080x360 with 1 Axes>"
            ]
          },
          "metadata": {
            "tags": [],
            "needs_background": "light"
          }
        }
      ]
    },
    {
      "cell_type": "markdown",
      "metadata": {
        "id": "VuG9T-bUp7RE",
        "colab_type": "text"
      },
      "source": [
        "## VII. Eleminate Outliers"
      ]
    },
    {
      "cell_type": "markdown",
      "metadata": {
        "id": "su0lhNTEp7RE",
        "colab_type": "text"
      },
      "source": [
        "#### Handling with IQR (Inter Quartile Range)"
      ]
    },
    {
      "cell_type": "code",
      "metadata": {
        "id": "2KJf0zqFp7RF",
        "colab_type": "code",
        "colab": {}
      },
      "source": [
        "#Quantile 1\n",
        "Q1 = df[['tenure','MonthlyCharges','TotalCharges']].quantile(0.25)"
      ],
      "execution_count": null,
      "outputs": []
    },
    {
      "cell_type": "code",
      "metadata": {
        "id": "aBXxFGAfp7RQ",
        "colab_type": "code",
        "colab": {},
        "outputId": "353dd783-b48f-430e-c008-c484dea44e83"
      },
      "source": [
        "#Quantile 3\n",
        "Q3 = df[['tenure','MonthlyCharges','TotalCharges']].quantile(0.75)\n",
        "Q3"
      ],
      "execution_count": null,
      "outputs": [
        {
          "output_type": "execute_result",
          "data": {
            "text/plain": [
              "tenure              55.0000\n",
              "MonthlyCharges      89.8500\n",
              "TotalCharges      3799.8375\n",
              "Name: 0.75, dtype: float64"
            ]
          },
          "metadata": {
            "tags": []
          },
          "execution_count": 27
        }
      ]
    },
    {
      "cell_type": "code",
      "metadata": {
        "id": "lWge9GWMp7Rf",
        "colab_type": "code",
        "colab": {},
        "outputId": "65d03163-f28b-49d6-e13a-335a08a7321e"
      },
      "source": [
        "# IQR\n",
        "IQR = Q3 - Q1\n",
        "IQR"
      ],
      "execution_count": null,
      "outputs": [
        {
          "output_type": "execute_result",
          "data": {
            "text/plain": [
              "tenure              46.0000\n",
              "MonthlyCharges      53.3875\n",
              "TotalCharges      3392.8625\n",
              "dtype: float64"
            ]
          },
          "metadata": {
            "tags": []
          },
          "execution_count": 28
        }
      ]
    },
    {
      "cell_type": "code",
      "metadata": {
        "id": "Shmz5aGPp7Rk",
        "colab_type": "code",
        "colab": {},
        "outputId": "f856b436-0d07-4ad0-aab1-b60da2d7188c"
      },
      "source": [
        "# The maximum value of each variable\n",
        "maximum = Q3 + (1.5*IQR)\n",
        "maximum"
      ],
      "execution_count": null,
      "outputs": [
        {
          "output_type": "execute_result",
          "data": {
            "text/plain": [
              "tenure             124.00000\n",
              "MonthlyCharges     169.93125\n",
              "TotalCharges      8889.13125\n",
              "dtype: float64"
            ]
          },
          "metadata": {
            "tags": []
          },
          "execution_count": 29
        }
      ]
    },
    {
      "cell_type": "code",
      "metadata": {
        "id": "Bn180vELp7Rt",
        "colab_type": "code",
        "colab": {},
        "outputId": "9fcc8f37-1273-40cb-8195-38721d308183"
      },
      "source": [
        "# The minimum value of each variable\n",
        "minimum = Q1 - (1.5*IQR)\n",
        "minimum"
      ],
      "execution_count": null,
      "outputs": [
        {
          "output_type": "execute_result",
          "data": {
            "text/plain": [
              "tenure             -60.00000\n",
              "MonthlyCharges     -43.61875\n",
              "TotalCharges     -4682.31875\n",
              "dtype: float64"
            ]
          },
          "metadata": {
            "tags": []
          },
          "execution_count": 30
        }
      ]
    },
    {
      "cell_type": "code",
      "metadata": {
        "id": "0Nwx0bmTp7Rv",
        "colab_type": "code",
        "colab": {}
      },
      "source": [
        "more_than = df > maximum\n",
        "lower_than = df < minimum"
      ],
      "execution_count": null,
      "outputs": []
    },
    {
      "cell_type": "code",
      "metadata": {
        "id": "fnCQ9Ql-p7Ry",
        "colab_type": "code",
        "colab": {}
      },
      "source": [
        "df = df.mask(more_than, maximum, axis=1) \n",
        "df = df.mask(lower_than, minimum, axis=1)"
      ],
      "execution_count": null,
      "outputs": []
    },
    {
      "cell_type": "code",
      "metadata": {
        "id": "fjCEdRWTp7R2",
        "colab_type": "code",
        "colab": {},
        "outputId": "292bb339-f835-45a7-de55-da15cdcfe3c5"
      },
      "source": [
        "df[['tenure','MonthlyCharges','TotalCharges']].describe()"
      ],
      "execution_count": null,
      "outputs": [
        {
          "output_type": "execute_result",
          "data": {
            "text/html": [
              "<div>\n",
              "<style scoped>\n",
              "    .dataframe tbody tr th:only-of-type {\n",
              "        vertical-align: middle;\n",
              "    }\n",
              "\n",
              "    .dataframe tbody tr th {\n",
              "        vertical-align: top;\n",
              "    }\n",
              "\n",
              "    .dataframe thead th {\n",
              "        text-align: right;\n",
              "    }\n",
              "</style>\n",
              "<table border=\"1\" class=\"dataframe\">\n",
              "  <thead>\n",
              "    <tr style=\"text-align: right;\">\n",
              "      <th></th>\n",
              "      <th>tenure</th>\n",
              "      <th>MonthlyCharges</th>\n",
              "      <th>TotalCharges</th>\n",
              "    </tr>\n",
              "  </thead>\n",
              "  <tbody>\n",
              "    <tr>\n",
              "      <th>count</th>\n",
              "      <td>6950.000000</td>\n",
              "      <td>6950.000000</td>\n",
              "      <td>6950.000000</td>\n",
              "    </tr>\n",
              "    <tr>\n",
              "      <th>mean</th>\n",
              "      <td>32.423165</td>\n",
              "      <td>64.992201</td>\n",
              "      <td>2286.058750</td>\n",
              "    </tr>\n",
              "    <tr>\n",
              "      <th>std</th>\n",
              "      <td>24.581073</td>\n",
              "      <td>30.032040</td>\n",
              "      <td>2265.702553</td>\n",
              "    </tr>\n",
              "    <tr>\n",
              "      <th>min</th>\n",
              "      <td>0.000000</td>\n",
              "      <td>0.000000</td>\n",
              "      <td>19.000000</td>\n",
              "    </tr>\n",
              "    <tr>\n",
              "      <th>25%</th>\n",
              "      <td>9.000000</td>\n",
              "      <td>36.462500</td>\n",
              "      <td>406.975000</td>\n",
              "    </tr>\n",
              "    <tr>\n",
              "      <th>50%</th>\n",
              "      <td>29.000000</td>\n",
              "      <td>70.450000</td>\n",
              "      <td>1400.850000</td>\n",
              "    </tr>\n",
              "    <tr>\n",
              "      <th>75%</th>\n",
              "      <td>55.000000</td>\n",
              "      <td>89.850000</td>\n",
              "      <td>3799.837500</td>\n",
              "    </tr>\n",
              "    <tr>\n",
              "      <th>max</th>\n",
              "      <td>124.000000</td>\n",
              "      <td>169.931250</td>\n",
              "      <td>8889.131250</td>\n",
              "    </tr>\n",
              "  </tbody>\n",
              "</table>\n",
              "</div>"
            ],
            "text/plain": [
              "            tenure  MonthlyCharges  TotalCharges\n",
              "count  6950.000000     6950.000000   6950.000000\n",
              "mean     32.423165       64.992201   2286.058750\n",
              "std      24.581073       30.032040   2265.702553\n",
              "min       0.000000        0.000000     19.000000\n",
              "25%       9.000000       36.462500    406.975000\n",
              "50%      29.000000       70.450000   1400.850000\n",
              "75%      55.000000       89.850000   3799.837500\n",
              "max     124.000000      169.931250   8889.131250"
            ]
          },
          "metadata": {
            "tags": []
          },
          "execution_count": 33
        }
      ]
    },
    {
      "cell_type": "code",
      "metadata": {
        "id": "3CsfaFQ9p7SA",
        "colab_type": "code",
        "colab": {}
      },
      "source": [
        "# df = df[(df['MonthlyCharges'] < maximum['MonthlyCharges']) & (df['MonthlyCharges'] > minimum['MonthlyCharges'])]"
      ],
      "execution_count": null,
      "outputs": []
    },
    {
      "cell_type": "markdown",
      "metadata": {
        "id": "Ild5lkoqp7SG",
        "colab_type": "text"
      },
      "source": [
        "## VIII. Nonstandard Value Detection"
      ]
    },
    {
      "cell_type": "code",
      "metadata": {
        "id": "LoOUfRJsp7SH",
        "colab_type": "code",
        "colab": {},
        "outputId": "178a7772-221c-4c1c-db92-1bcea5e617b4"
      },
      "source": [
        "for col_name in list(['gender','SeniorCitizen','Partner','Dependents','PhoneService','MultipleLines','InternetService','OnlineSecurity','OnlineBackup','DeviceProtection','TechSupport','StreamingTV','StreamingMovies','Contract','PaperlessBilling','PaymentMethod','Churn']):\n",
        "    print('\\nUnique Values Count \\033[1m' + 'Before Standardized \\033[0m Variable',col_name)\n",
        "    print(df[col_name].value_counts())"
      ],
      "execution_count": null,
      "outputs": [
        {
          "output_type": "stream",
          "text": [
            "\n",
            "Unique Values Count \u001b[1mBefore Standardized \u001b[0m Variable gender\n",
            "Male         3499\n",
            "Female       3431\n",
            "Wanita         14\n",
            "Laki-Laki       6\n",
            "Name: gender, dtype: int64\n",
            "\n",
            "Unique Values Count \u001b[1mBefore Standardized \u001b[0m Variable SeniorCitizen\n",
            "0    5822\n",
            "1    1128\n",
            "Name: SeniorCitizen, dtype: int64\n",
            "\n",
            "Unique Values Count \u001b[1mBefore Standardized \u001b[0m Variable Partner\n",
            "No     3591\n",
            "Yes    3359\n",
            "Name: Partner, dtype: int64\n",
            "\n",
            "Unique Values Count \u001b[1mBefore Standardized \u001b[0m Variable Dependents\n",
            "No     4870\n",
            "Yes    2060\n",
            "Iya      20\n",
            "Name: Dependents, dtype: int64\n",
            "\n",
            "Unique Values Count \u001b[1mBefore Standardized \u001b[0m Variable PhoneService\n",
            "Yes    6281\n",
            "No      669\n",
            "Name: PhoneService, dtype: int64\n",
            "\n",
            "Unique Values Count \u001b[1mBefore Standardized \u001b[0m Variable MultipleLines\n",
            "No                  3346\n",
            "Yes                 2935\n",
            "No phone service     669\n",
            "Name: MultipleLines, dtype: int64\n",
            "\n",
            "Unique Values Count \u001b[1mBefore Standardized \u001b[0m Variable InternetService\n",
            "Fiber optic    3057\n",
            "DSL            2388\n",
            "No             1505\n",
            "Name: InternetService, dtype: int64\n",
            "\n",
            "Unique Values Count \u001b[1mBefore Standardized \u001b[0m Variable OnlineSecurity\n",
            "No                     3454\n",
            "Yes                    1991\n",
            "No internet service    1505\n",
            "Name: OnlineSecurity, dtype: int64\n",
            "\n",
            "Unique Values Count \u001b[1mBefore Standardized \u001b[0m Variable OnlineBackup\n",
            "No                     3045\n",
            "Yes                    2400\n",
            "No internet service    1505\n",
            "Name: OnlineBackup, dtype: int64\n",
            "\n",
            "Unique Values Count \u001b[1mBefore Standardized \u001b[0m Variable DeviceProtection\n",
            "No                     3054\n",
            "Yes                    2391\n",
            "No internet service    1505\n",
            "Name: DeviceProtection, dtype: int64\n",
            "\n",
            "Unique Values Count \u001b[1mBefore Standardized \u001b[0m Variable TechSupport\n",
            "No                     3431\n",
            "Yes                    2014\n",
            "No internet service    1505\n",
            "Name: TechSupport, dtype: int64\n",
            "\n",
            "Unique Values Count \u001b[1mBefore Standardized \u001b[0m Variable StreamingTV\n",
            "No                     2774\n",
            "Yes                    2671\n",
            "No internet service    1505\n",
            "Name: StreamingTV, dtype: int64\n",
            "\n",
            "Unique Values Count \u001b[1mBefore Standardized \u001b[0m Variable StreamingMovies\n",
            "No                     2747\n",
            "Yes                    2698\n",
            "No internet service    1505\n",
            "Name: StreamingMovies, dtype: int64\n",
            "\n",
            "Unique Values Count \u001b[1mBefore Standardized \u001b[0m Variable Contract\n",
            "Month-to-month    3823\n",
            "Two year          1670\n",
            "One year          1457\n",
            "Name: Contract, dtype: int64\n",
            "\n",
            "Unique Values Count \u001b[1mBefore Standardized \u001b[0m Variable PaperlessBilling\n",
            "Yes    4114\n",
            "No     2836\n",
            "Name: PaperlessBilling, dtype: int64\n",
            "\n",
            "Unique Values Count \u001b[1mBefore Standardized \u001b[0m Variable PaymentMethod\n",
            "Electronic check             2337\n",
            "Mailed check                 1594\n",
            "Bank transfer (automatic)    1519\n",
            "Credit card (automatic)      1500\n",
            "Name: PaymentMethod, dtype: int64\n",
            "\n",
            "Unique Values Count \u001b[1mBefore Standardized \u001b[0m Variable Churn\n",
            "No       5114\n",
            "Yes      1827\n",
            "Churn       9\n",
            "Name: Churn, dtype: int64\n"
          ],
          "name": "stdout"
        }
      ]
    },
    {
      "cell_type": "markdown",
      "metadata": {
        "id": "kPQZvpIup7SN",
        "colab_type": "text"
      },
      "source": [
        "## IX. Standardization of Categorical Variables"
      ]
    },
    {
      "cell_type": "markdown",
      "metadata": {
        "id": "SU6bsfCfp7SO",
        "colab_type": "text"
      },
      "source": [
        "Its known that the variables that must must be standardized are :\n",
        "- Gender (Male, Female, Wanita, Laki-Laki) -> (Male,Female)\n",
        "- Dependents (No,Yes,Iya) -> (No,Yes)\n",
        "- Churn (No,Yes,Churn) -> (No,Yes)"
      ]
    },
    {
      "cell_type": "code",
      "metadata": {
        "id": "AdXG4aR_p7SO",
        "colab_type": "code",
        "colab": {}
      },
      "source": [
        "df = df.replace(['Wanita','Laki-Laki','Churn','Iya'],['Female','Male','Yes','Yes'])"
      ],
      "execution_count": null,
      "outputs": []
    },
    {
      "cell_type": "code",
      "metadata": {
        "id": "CIP-CauRp7SR",
        "colab_type": "code",
        "colab": {},
        "outputId": "b602b0fc-ee28-415e-de65-fee8bd12ad72"
      },
      "source": [
        "for col_name in list(['gender','Dependents','Churn']):\n",
        "    print('\\nUnique Values Count \\033[1m' + 'After Standardized \\033[0mVariable',col_name)\n",
        "    print(df[col_name].value_counts())"
      ],
      "execution_count": null,
      "outputs": [
        {
          "output_type": "stream",
          "text": [
            "\n",
            "Unique Values Count \u001b[1mAfter Standardized \u001b[0mVariable gender\n",
            "Male      3505\n",
            "Female    3445\n",
            "Name: gender, dtype: int64\n",
            "\n",
            "Unique Values Count \u001b[1mAfter Standardized \u001b[0mVariable Dependents\n",
            "No     4870\n",
            "Yes    2080\n",
            "Name: Dependents, dtype: int64\n",
            "\n",
            "Unique Values Count \u001b[1mAfter Standardized \u001b[0mVariable Churn\n",
            "No     5114\n",
            "Yes    1836\n",
            "Name: Churn, dtype: int64\n"
          ],
          "name": "stdout"
        }
      ]
    },
    {
      "cell_type": "code",
      "metadata": {
        "id": "O8WJLTdep7SW",
        "colab_type": "code",
        "colab": {}
      },
      "source": [
        ""
      ],
      "execution_count": null,
      "outputs": []
    }
  ]
}